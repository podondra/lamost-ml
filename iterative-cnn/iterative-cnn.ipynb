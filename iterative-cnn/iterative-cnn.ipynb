{
 "cells": [
  {
   "cell_type": "code",
   "execution_count": 1,
   "metadata": {},
   "outputs": [],
   "source": [
    "import numpy as np\n",
    "import pandas as pd\n",
    "from matplotlib import pyplot as plt"
   ]
  },
  {
   "cell_type": "markdown",
   "metadata": {},
   "source": [
    "# Ondrejov dataset"
   ]
  },
  {
   "cell_type": "code",
   "execution_count": 2,
   "metadata": {},
   "outputs": [
    {
     "data": {
      "text/html": [
       "<div>\n",
       "<style scoped>\n",
       "    .dataframe tbody tr th:only-of-type {\n",
       "        vertical-align: middle;\n",
       "    }\n",
       "\n",
       "    .dataframe tbody tr th {\n",
       "        vertical-align: top;\n",
       "    }\n",
       "\n",
       "    .dataframe thead th {\n",
       "        text-align: right;\n",
       "    }\n",
       "</style>\n",
       "<table border=\"1\" class=\"dataframe\">\n",
       "  <thead>\n",
       "    <tr style=\"text-align: right;\">\n",
       "      <th></th>\n",
       "      <th>id</th>\n",
       "      <th>dec</th>\n",
       "      <th>gratang</th>\n",
       "      <th>detector</th>\n",
       "      <th>expval</th>\n",
       "      <th>object</th>\n",
       "      <th>dichmir</th>\n",
       "      <th>chipid</th>\n",
       "      <th>ra</th>\n",
       "      <th>specfilt</th>\n",
       "      <th>...</th>\n",
       "      <th>6718.20863309</th>\n",
       "      <th>6719.74100719</th>\n",
       "      <th>6721.27338129</th>\n",
       "      <th>6722.8057554</th>\n",
       "      <th>6724.3381295</th>\n",
       "      <th>6725.8705036</th>\n",
       "      <th>6727.4028777</th>\n",
       "      <th>6728.9352518</th>\n",
       "      <th>6730.4676259</th>\n",
       "      <th>6732.0</th>\n",
       "    </tr>\n",
       "  </thead>\n",
       "  <tbody>\n",
       "    <tr>\n",
       "      <th>0</th>\n",
       "      <td>a201305230017</td>\n",
       "      <td>-11:09:40.70</td>\n",
       "      <td>30.25</td>\n",
       "      <td>PyLoN 2048x512BX</td>\n",
       "      <td>19.246130</td>\n",
       "      <td>alp Vir</td>\n",
       "      <td>2</td>\n",
       "      <td>E2V 42-10 BX</td>\n",
       "      <td>13:25:11.580</td>\n",
       "      <td>1</td>\n",
       "      <td>...</td>\n",
       "      <td>506096.210748</td>\n",
       "      <td>505286.047228</td>\n",
       "      <td>504106.925201</td>\n",
       "      <td>502043.387652</td>\n",
       "      <td>499827.958541</td>\n",
       "      <td>498385.165956</td>\n",
       "      <td>498190.044968</td>\n",
       "      <td>499302.148265</td>\n",
       "      <td>500607.698358</td>\n",
       "      <td>500899.192757</td>\n",
       "    </tr>\n",
       "    <tr>\n",
       "      <th>1</th>\n",
       "      <td>a201306060015</td>\n",
       "      <td>+19:10:56.60</td>\n",
       "      <td>30.25</td>\n",
       "      <td>PyLoN 2048x512BX</td>\n",
       "      <td>0.009187</td>\n",
       "      <td>alp Boo</td>\n",
       "      <td>2</td>\n",
       "      <td>E2V 42-10 BX</td>\n",
       "      <td>14:15:39.667</td>\n",
       "      <td>1</td>\n",
       "      <td>...</td>\n",
       "      <td>193644.604516</td>\n",
       "      <td>194951.353066</td>\n",
       "      <td>200427.247481</td>\n",
       "      <td>203353.778155</td>\n",
       "      <td>203940.311357</td>\n",
       "      <td>203613.661065</td>\n",
       "      <td>202053.255088</td>\n",
       "      <td>202003.060090</td>\n",
       "      <td>203675.565714</td>\n",
       "      <td>204506.290588</td>\n",
       "    </tr>\n",
       "    <tr>\n",
       "      <th>2</th>\n",
       "      <td>a201306060016</td>\n",
       "      <td>+19:10:56.60</td>\n",
       "      <td>30.25</td>\n",
       "      <td>PyLoN 2048x512BX</td>\n",
       "      <td>0.012332</td>\n",
       "      <td>alp Boo</td>\n",
       "      <td>2</td>\n",
       "      <td>E2V 42-10 BX</td>\n",
       "      <td>14:15:39.667</td>\n",
       "      <td>1</td>\n",
       "      <td>...</td>\n",
       "      <td>307559.413555</td>\n",
       "      <td>309575.702337</td>\n",
       "      <td>318283.859189</td>\n",
       "      <td>323097.056161</td>\n",
       "      <td>324141.074458</td>\n",
       "      <td>323543.630765</td>\n",
       "      <td>320970.267304</td>\n",
       "      <td>320887.844222</td>\n",
       "      <td>323502.907113</td>\n",
       "      <td>324655.685273</td>\n",
       "    </tr>\n",
       "    <tr>\n",
       "      <th>3</th>\n",
       "      <td>a201306060018</td>\n",
       "      <td>+33:21:45.60</td>\n",
       "      <td>30.25</td>\n",
       "      <td>PyLoN 2048x512BX</td>\n",
       "      <td>5.056532</td>\n",
       "      <td>beta Lyr</td>\n",
       "      <td>2</td>\n",
       "      <td>E2V 42-10 BX</td>\n",
       "      <td>18:50:04.787</td>\n",
       "      <td>1</td>\n",
       "      <td>...</td>\n",
       "      <td>44950.487947</td>\n",
       "      <td>45019.574545</td>\n",
       "      <td>44910.009841</td>\n",
       "      <td>44719.100229</td>\n",
       "      <td>44689.037403</td>\n",
       "      <td>44724.791337</td>\n",
       "      <td>44700.993767</td>\n",
       "      <td>44705.082297</td>\n",
       "      <td>44752.548428</td>\n",
       "      <td>44734.531766</td>\n",
       "    </tr>\n",
       "    <tr>\n",
       "      <th>4</th>\n",
       "      <td>a201306060019</td>\n",
       "      <td>+33:21:45.60</td>\n",
       "      <td>30.25</td>\n",
       "      <td>PyLoN 2048x512BX</td>\n",
       "      <td>15.040130</td>\n",
       "      <td>beta Lyr</td>\n",
       "      <td>2</td>\n",
       "      <td>E2V 42-10 BX</td>\n",
       "      <td>18:50:04.787</td>\n",
       "      <td>1</td>\n",
       "      <td>...</td>\n",
       "      <td>125795.778619</td>\n",
       "      <td>126004.868747</td>\n",
       "      <td>125788.287910</td>\n",
       "      <td>125227.841525</td>\n",
       "      <td>125145.712758</td>\n",
       "      <td>125330.650720</td>\n",
       "      <td>125332.395056</td>\n",
       "      <td>125338.057872</td>\n",
       "      <td>125376.976633</td>\n",
       "      <td>125252.358114</td>\n",
       "    </tr>\n",
       "  </tbody>\n",
       "</table>\n",
       "<p>5 rows × 152 columns</p>\n",
       "</div>"
      ],
      "text/plain": [
       "              id           dec  gratang          detector     expval  \\\n",
       "0  a201305230017  -11:09:40.70    30.25  PyLoN 2048x512BX  19.246130   \n",
       "1  a201306060015  +19:10:56.60    30.25  PyLoN 2048x512BX   0.009187   \n",
       "2  a201306060016  +19:10:56.60    30.25  PyLoN 2048x512BX   0.012332   \n",
       "3  a201306060018  +33:21:45.60    30.25  PyLoN 2048x512BX   5.056532   \n",
       "4  a201306060019  +33:21:45.60    30.25  PyLoN 2048x512BX  15.040130   \n",
       "\n",
       "     object  dichmir        chipid            ra  specfilt      ...        \\\n",
       "0   alp Vir        2  E2V 42-10 BX  13:25:11.580         1      ...         \n",
       "1   alp Boo        2  E2V 42-10 BX  14:15:39.667         1      ...         \n",
       "2   alp Boo        2  E2V 42-10 BX  14:15:39.667         1      ...         \n",
       "3  beta Lyr        2  E2V 42-10 BX  18:50:04.787         1      ...         \n",
       "4  beta Lyr        2  E2V 42-10 BX  18:50:04.787         1      ...         \n",
       "\n",
       "   6718.20863309  6719.74100719  6721.27338129   6722.8057554   6724.3381295  \\\n",
       "0  506096.210748  505286.047228  504106.925201  502043.387652  499827.958541   \n",
       "1  193644.604516  194951.353066  200427.247481  203353.778155  203940.311357   \n",
       "2  307559.413555  309575.702337  318283.859189  323097.056161  324141.074458   \n",
       "3   44950.487947   45019.574545   44910.009841   44719.100229   44689.037403   \n",
       "4  125795.778619  126004.868747  125788.287910  125227.841525  125145.712758   \n",
       "\n",
       "    6725.8705036   6727.4028777   6728.9352518   6730.4676259         6732.0  \n",
       "0  498385.165956  498190.044968  499302.148265  500607.698358  500899.192757  \n",
       "1  203613.661065  202053.255088  202003.060090  203675.565714  204506.290588  \n",
       "2  323543.630765  320970.267304  320887.844222  323502.907113  324655.685273  \n",
       "3   44724.791337   44700.993767   44705.082297   44752.548428   44734.531766  \n",
       "4  125330.650720  125332.395056  125338.057872  125376.976633  125252.358114  \n",
       "\n",
       "[5 rows x 152 columns]"
      ]
     },
     "execution_count": 2,
     "metadata": {},
     "output_type": "execute_result"
    }
   ],
   "source": [
    "# read the ondrejov dataset (https://github.com/podondra/ondrejov-dataset)\n",
    "ondrejov_spectra = pd.read_csv('data/ondrejov-dataset.csv')\n",
    "ondrejov_spectra.head()"
   ]
  },
  {
   "cell_type": "code",
   "execution_count": 3,
   "metadata": {},
   "outputs": [
    {
     "data": {
      "text/plain": [
       "(12936, 140)"
      ]
     },
     "execution_count": 3,
     "metadata": {},
     "output_type": "execute_result"
    }
   ],
   "source": [
    "ondrejov_fluxes = ondrejov_spectra.iloc[:, 12:].values\n",
    "ondrejov_fluxes.shape"
   ]
  },
  {
   "cell_type": "code",
   "execution_count": 4,
   "metadata": {},
   "outputs": [
    {
     "data": {
      "text/plain": [
       "(12936,)"
      ]
     },
     "execution_count": 4,
     "metadata": {},
     "output_type": "execute_result"
    }
   ],
   "source": [
    "ondrejov_labels = ondrejov_spectra['label'].values\n",
    "ondrejov_labels.shape"
   ]
  },
  {
   "cell_type": "code",
   "execution_count": 5,
   "metadata": {},
   "outputs": [
    {
     "data": {
      "image/png": "[encoded data removed]",
      "text/plain": [
       "<Figure size 432x288 with 3 Axes>"
      ]
     },
     "metadata": {},
     "output_type": "display_data"
    }
   ],
   "source": [
    "# preview random spectra\n",
    "n_previewed_spectra = 3\n",
    "rnd_idxs = np.random.permutation(ondrejov_fluxes.shape[0])[:n_previewed_spectra]\n",
    "figure, axes = plt.subplots(nrows=n_previewed_spectra)\n",
    "for rnd_idx, ax in zip(rnd_idxs, axes):\n",
    "    ax.plot(ondrejov_fluxes[rnd_idx])\n",
    "figure.tight_layout()"
   ]
  }
 ],
 "metadata": {
  "kernelspec": {
   "display_name": "Python 3",
   "language": "python",
   "name": "python3"
  },
  "language_info": {
   "codemirror_mode": {
    "name": "ipython",
    "version": 3
   },
   "file_extension": ".py",
   "mimetype": "text/x-python",
   "name": "python",
   "nbconvert_exporter": "python",
   "pygments_lexer": "ipython3",
   "version": "3.5.2"
  }
 },
 "nbformat": 4,
 "nbformat_minor": 2
}
