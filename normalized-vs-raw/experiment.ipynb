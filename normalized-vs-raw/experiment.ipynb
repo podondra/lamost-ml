{
 "cells": [
  {
   "cell_type": "markdown",
   "metadata": {},
   "source": [
    "# Raw versus Normalized Spectra Experiment"
   ]
  },
  {
   "cell_type": "code",
   "execution_count": 1,
   "metadata": {},
   "outputs": [
    {
     "name": "stderr",
     "output_type": "stream",
     "text": [
      "/usr/local/lib/python3.5/dist-packages/h5py/__init__.py:36: FutureWarning: Conversion of the second argument of issubdtype from `float` to `np.floating` is deprecated. In future, it will be treated as `np.float64 == np.dtype(float).type`.\n",
      "  from ._conv import register_converters as _register_converters\n"
     ]
    }
   ],
   "source": [
    "import tensorflow\n",
    "import pandas\n",
    "import numpy\n",
    "from matplotlib import pyplot\n",
    "from sklearn import preprocessing\n",
    "from sklearn import utils\n",
    "from sklearn.model_selection import train_test_split\n",
    "from sklearn.metrics import confusion_matrix"
   ]
  },
  {
   "cell_type": "code",
   "execution_count": 2,
   "metadata": {},
   "outputs": [],
   "source": [
    "%matplotlib inline"
   ]
  },
  {
   "cell_type": "code",
   "execution_count": 3,
   "metadata": {},
   "outputs": [
    {
     "data": {
      "text/plain": [
       "'1.8.0'"
      ]
     },
     "execution_count": 3,
     "metadata": {},
     "output_type": "execute_result"
    }
   ],
   "source": [
    "tensorflow.__version__"
   ]
  },
  {
   "cell_type": "code",
   "execution_count": 4,
   "metadata": {},
   "outputs": [],
   "source": [
    "WAVES = numpy.linspace(6519, 6732, num=140)"
   ]
  },
  {
   "cell_type": "markdown",
   "metadata": {},
   "source": [
    "## Load the Data"
   ]
  },
  {
   "cell_type": "code",
   "execution_count": 5,
   "metadata": {
    "scrolled": false
   },
   "outputs": [
    {
     "data": {
      "text/html": [
       "<div>\n",
       "<style scoped>\n",
       "    .dataframe tbody tr th:only-of-type {\n",
       "        vertical-align: middle;\n",
       "    }\n",
       "\n",
       "    .dataframe tbody tr th {\n",
       "        vertical-align: top;\n",
       "    }\n",
       "\n",
       "    .dataframe thead th {\n",
       "        text-align: right;\n",
       "    }\n",
       "</style>\n",
       "<table border=\"1\" class=\"dataframe\">\n",
       "  <thead>\n",
       "    <tr style=\"text-align: right;\">\n",
       "      <th></th>\n",
       "      <th>dec</th>\n",
       "      <th>gratang</th>\n",
       "      <th>detector</th>\n",
       "      <th>expval</th>\n",
       "      <th>object</th>\n",
       "      <th>dichmir</th>\n",
       "      <th>chipid</th>\n",
       "      <th>ra</th>\n",
       "      <th>specfilt</th>\n",
       "      <th>label</th>\n",
       "      <th>...</th>\n",
       "      <th>6718.20863309</th>\n",
       "      <th>6719.74100719</th>\n",
       "      <th>6721.27338129</th>\n",
       "      <th>6722.8057554</th>\n",
       "      <th>6724.3381295</th>\n",
       "      <th>6725.8705036</th>\n",
       "      <th>6727.4028777</th>\n",
       "      <th>6728.9352518</th>\n",
       "      <th>6730.4676259</th>\n",
       "      <th>6732.0</th>\n",
       "    </tr>\n",
       "    <tr>\n",
       "      <th>id</th>\n",
       "      <th></th>\n",
       "      <th></th>\n",
       "      <th></th>\n",
       "      <th></th>\n",
       "      <th></th>\n",
       "      <th></th>\n",
       "      <th></th>\n",
       "      <th></th>\n",
       "      <th></th>\n",
       "      <th></th>\n",
       "      <th></th>\n",
       "      <th></th>\n",
       "      <th></th>\n",
       "      <th></th>\n",
       "      <th></th>\n",
       "      <th></th>\n",
       "      <th></th>\n",
       "      <th></th>\n",
       "      <th></th>\n",
       "      <th></th>\n",
       "      <th></th>\n",
       "    </tr>\n",
       "  </thead>\n",
       "  <tbody>\n",
       "    <tr>\n",
       "      <th>a201305230017</th>\n",
       "      <td>-11:09:40.70</td>\n",
       "      <td>30.25</td>\n",
       "      <td>PyLoN 2048x512BX</td>\n",
       "      <td>19.246130</td>\n",
       "      <td>alp Vir</td>\n",
       "      <td>2</td>\n",
       "      <td>E2V 42-10 BX</td>\n",
       "      <td>13:25:11.580</td>\n",
       "      <td>1</td>\n",
       "      <td>absorption</td>\n",
       "      <td>...</td>\n",
       "      <td>506096.210748</td>\n",
       "      <td>505286.047228</td>\n",
       "      <td>504106.925201</td>\n",
       "      <td>502043.387652</td>\n",
       "      <td>499827.958541</td>\n",
       "      <td>498385.165956</td>\n",
       "      <td>498190.044968</td>\n",
       "      <td>499302.148265</td>\n",
       "      <td>500607.698358</td>\n",
       "      <td>500899.192757</td>\n",
       "    </tr>\n",
       "    <tr>\n",
       "      <th>a201306060015</th>\n",
       "      <td>+19:10:56.60</td>\n",
       "      <td>30.25</td>\n",
       "      <td>PyLoN 2048x512BX</td>\n",
       "      <td>0.009187</td>\n",
       "      <td>alp Boo</td>\n",
       "      <td>2</td>\n",
       "      <td>E2V 42-10 BX</td>\n",
       "      <td>14:15:39.667</td>\n",
       "      <td>1</td>\n",
       "      <td>absorption</td>\n",
       "      <td>...</td>\n",
       "      <td>193644.604516</td>\n",
       "      <td>194951.353066</td>\n",
       "      <td>200427.247481</td>\n",
       "      <td>203353.778155</td>\n",
       "      <td>203940.311357</td>\n",
       "      <td>203613.661065</td>\n",
       "      <td>202053.255088</td>\n",
       "      <td>202003.060090</td>\n",
       "      <td>203675.565714</td>\n",
       "      <td>204506.290588</td>\n",
       "    </tr>\n",
       "    <tr>\n",
       "      <th>a201306060016</th>\n",
       "      <td>+19:10:56.60</td>\n",
       "      <td>30.25</td>\n",
       "      <td>PyLoN 2048x512BX</td>\n",
       "      <td>0.012332</td>\n",
       "      <td>alp Boo</td>\n",
       "      <td>2</td>\n",
       "      <td>E2V 42-10 BX</td>\n",
       "      <td>14:15:39.667</td>\n",
       "      <td>1</td>\n",
       "      <td>absorption</td>\n",
       "      <td>...</td>\n",
       "      <td>307559.413555</td>\n",
       "      <td>309575.702337</td>\n",
       "      <td>318283.859189</td>\n",
       "      <td>323097.056161</td>\n",
       "      <td>324141.074458</td>\n",
       "      <td>323543.630765</td>\n",
       "      <td>320970.267304</td>\n",
       "      <td>320887.844222</td>\n",
       "      <td>323502.907113</td>\n",
       "      <td>324655.685273</td>\n",
       "    </tr>\n",
       "    <tr>\n",
       "      <th>a201306060018</th>\n",
       "      <td>+33:21:45.60</td>\n",
       "      <td>30.25</td>\n",
       "      <td>PyLoN 2048x512BX</td>\n",
       "      <td>5.056532</td>\n",
       "      <td>beta Lyr</td>\n",
       "      <td>2</td>\n",
       "      <td>E2V 42-10 BX</td>\n",
       "      <td>18:50:04.787</td>\n",
       "      <td>1</td>\n",
       "      <td>emission</td>\n",
       "      <td>...</td>\n",
       "      <td>44950.487947</td>\n",
       "      <td>45019.574545</td>\n",
       "      <td>44910.009841</td>\n",
       "      <td>44719.100229</td>\n",
       "      <td>44689.037403</td>\n",
       "      <td>44724.791337</td>\n",
       "      <td>44700.993767</td>\n",
       "      <td>44705.082297</td>\n",
       "      <td>44752.548428</td>\n",
       "      <td>44734.531766</td>\n",
       "    </tr>\n",
       "    <tr>\n",
       "      <th>a201306060019</th>\n",
       "      <td>+33:21:45.60</td>\n",
       "      <td>30.25</td>\n",
       "      <td>PyLoN 2048x512BX</td>\n",
       "      <td>15.040130</td>\n",
       "      <td>beta Lyr</td>\n",
       "      <td>2</td>\n",
       "      <td>E2V 42-10 BX</td>\n",
       "      <td>18:50:04.787</td>\n",
       "      <td>1</td>\n",
       "      <td>emission</td>\n",
       "      <td>...</td>\n",
       "      <td>125795.778619</td>\n",
       "      <td>126004.868747</td>\n",
       "      <td>125788.287910</td>\n",
       "      <td>125227.841525</td>\n",
       "      <td>125145.712758</td>\n",
       "      <td>125330.650720</td>\n",
       "      <td>125332.395056</td>\n",
       "      <td>125338.057872</td>\n",
       "      <td>125376.976633</td>\n",
       "      <td>125252.358114</td>\n",
       "    </tr>\n",
       "  </tbody>\n",
       "</table>\n",
       "<p>5 rows × 151 columns</p>\n",
       "</div>"
      ],
      "text/plain": [
       "                        dec  gratang          detector     expval    object  \\\n",
       "id                                                                            \n",
       "a201305230017  -11:09:40.70    30.25  PyLoN 2048x512BX  19.246130   alp Vir   \n",
       "a201306060015  +19:10:56.60    30.25  PyLoN 2048x512BX   0.009187   alp Boo   \n",
       "a201306060016  +19:10:56.60    30.25  PyLoN 2048x512BX   0.012332   alp Boo   \n",
       "a201306060018  +33:21:45.60    30.25  PyLoN 2048x512BX   5.056532  beta Lyr   \n",
       "a201306060019  +33:21:45.60    30.25  PyLoN 2048x512BX  15.040130  beta Lyr   \n",
       "\n",
       "               dichmir        chipid            ra  specfilt       label  \\\n",
       "id                                                                         \n",
       "a201305230017        2  E2V 42-10 BX  13:25:11.580         1  absorption   \n",
       "a201306060015        2  E2V 42-10 BX  14:15:39.667         1  absorption   \n",
       "a201306060016        2  E2V 42-10 BX  14:15:39.667         1  absorption   \n",
       "a201306060018        2  E2V 42-10 BX  18:50:04.787         1    emission   \n",
       "a201306060019        2  E2V 42-10 BX  18:50:04.787         1    emission   \n",
       "\n",
       "                   ...        6718.20863309  6719.74100719  6721.27338129  \\\n",
       "id                 ...                                                      \n",
       "a201305230017      ...        506096.210748  505286.047228  504106.925201   \n",
       "a201306060015      ...        193644.604516  194951.353066  200427.247481   \n",
       "a201306060016      ...        307559.413555  309575.702337  318283.859189   \n",
       "a201306060018      ...         44950.487947   45019.574545   44910.009841   \n",
       "a201306060019      ...        125795.778619  126004.868747  125788.287910   \n",
       "\n",
       "                6722.8057554   6724.3381295   6725.8705036   6727.4028777  \\\n",
       "id                                                                          \n",
       "a201305230017  502043.387652  499827.958541  498385.165956  498190.044968   \n",
       "a201306060015  203353.778155  203940.311357  203613.661065  202053.255088   \n",
       "a201306060016  323097.056161  324141.074458  323543.630765  320970.267304   \n",
       "a201306060018   44719.100229   44689.037403   44724.791337   44700.993767   \n",
       "a201306060019  125227.841525  125145.712758  125330.650720  125332.395056   \n",
       "\n",
       "                6728.9352518   6730.4676259         6732.0  \n",
       "id                                                          \n",
       "a201305230017  499302.148265  500607.698358  500899.192757  \n",
       "a201306060015  202003.060090  203675.565714  204506.290588  \n",
       "a201306060016  320887.844222  323502.907113  324655.685273  \n",
       "a201306060018   44705.082297   44752.548428   44734.531766  \n",
       "a201306060019  125338.057872  125376.976633  125252.358114  \n",
       "\n",
       "[5 rows x 151 columns]"
      ]
     },
     "execution_count": 5,
     "metadata": {},
     "output_type": "execute_result"
    }
   ],
   "source": [
    "raw_df = pandas.read_csv('data/raw-dataset.csv', index_col='id')\n",
    "raw_df.sort_index(inplace=True)\n",
    "norm_df = pandas.read_csv('data/normalized-dataset.csv', index_col='id')\n",
    "norm_df.sort_index(inplace=True)\n",
    "raw_df.head()"
   ]
  },
  {
   "cell_type": "markdown",
   "metadata": {},
   "source": [
    "## Dataset Split"
   ]
  },
  {
   "cell_type": "code",
   "execution_count": 6,
   "metadata": {},
   "outputs": [],
   "source": [
    "# according to objects\n",
    "objects = raw_df['object'].unique()\n",
    "tr_objects, te_objects = train_test_split(objects, test_size=0.2)\n",
    "tr_objects, val_objects = train_test_split(tr_objects, test_size=0.3)\n",
    "\n",
    "tr_idx = raw_df['object'].isin(tr_objects)\n",
    "val_idx = raw_df['object'].isin(val_objects)\n",
    "te_idx = raw_df['object'].isin(te_objects)"
   ]
  },
  {
   "cell_type": "code",
   "execution_count": 7,
   "metadata": {},
   "outputs": [
    {
     "data": {
      "image/png": "[encoded data removed]",
      "text/plain": [
       "<Figure size 432x288 with 3 Axes>"
      ]
     },
     "metadata": {},
     "output_type": "display_data"
    }
   ],
   "source": [
    "def preview_splits():\n",
    "    _, axes = pyplot.subplots(ncols=3, sharey=True)\n",
    "    for ax, idx, title in zip(axes, (tr_idx, val_idx, te_idx), ('train', 'validation', 'test')):\n",
    "        raw_df.loc[idx, 'label'].value_counts().plot.bar(ax=ax)\n",
    "        ax.set_ylabel('number of spectra')\n",
    "        ax.set_title(title)\n",
    "\n",
    "preview_splits()"
   ]
  },
  {
   "cell_type": "markdown",
   "metadata": {},
   "source": [
    "## Encode Labels"
   ]
  },
  {
   "cell_type": "code",
   "execution_count": 8,
   "metadata": {
    "scrolled": true
   },
   "outputs": [
    {
     "name": "stdout",
     "output_type": "stream",
     "text": [
      "['absorption' 'double-peak' 'emission']\n"
     ]
    },
    {
     "data": {
      "text/plain": [
       "(array([[1., 0., 0.],\n",
       "        [1., 0., 0.],\n",
       "        [1., 0., 0.],\n",
       "        ...,\n",
       "        [1., 0., 0.],\n",
       "        [0., 0., 1.],\n",
       "        [0., 1., 0.]]), (12936, 3))"
      ]
     },
     "execution_count": 8,
     "metadata": {},
     "output_type": "execute_result"
    }
   ],
   "source": [
    "le = preprocessing.LabelEncoder()\n",
    "le.fit(raw_df['label'])\n",
    "print(le.classes_)\n",
    "#le.inverse_transform(encoded)\n",
    "\n",
    "enc = preprocessing.OneHotEncoder(sparse=False)\n",
    "raw_y = enc.fit_transform(le.transform(raw_df['label']).reshape(-1, 1))\n",
    "norm_y = enc.fit_transform(le.transform(norm_df['label']).reshape(-1, 1))\n",
    "raw_y, raw_y.shape"
   ]
  },
  {
   "cell_type": "markdown",
   "metadata": {},
   "source": [
    "## Scaling"
   ]
  },
  {
   "cell_type": "code",
   "execution_count": 9,
   "metadata": {},
   "outputs": [
    {
     "name": "stderr",
     "output_type": "stream",
     "text": [
      "/usr/local/lib/python3.5/dist-packages/ipykernel_launcher.py:1: FutureWarning: Method .as_matrix will be removed in a future version. Use .values instead.\n",
      "  \"\"\"Entry point for launching an IPython kernel.\n",
      "/usr/local/lib/python3.5/dist-packages/ipykernel_launcher.py:2: FutureWarning: Method .as_matrix will be removed in a future version. Use .values instead.\n",
      "  \n"
     ]
    },
    {
     "data": {
      "text/plain": [
       "((12936, 140),\n",
       " (12936, 140),\n",
       " array([8.92238819e+08, 6.44109290e+07, 1.65213469e+08, ...,\n",
       "        2.65454673e+07, 1.87183296e+07, 1.77052099e+06]),\n",
       " array([528856.20335521, 206017.43843591, 328129.03953654, ...,\n",
       "        123712.81054967,  35333.47062053,  10215.4039011 ]))"
      ]
     },
     "execution_count": 9,
     "metadata": {},
     "output_type": "execute_result"
    }
   ],
   "source": [
    "norm_X = norm_df.iloc[:, 1:].as_matrix()\n",
    "raw_X = raw_df.iloc[:, 11:].as_matrix()\n",
    "raw_X.shape, norm_X.shape, raw_X.var(axis=1), raw_X.mean(axis=1)"
   ]
  },
  {
   "cell_type": "code",
   "execution_count": 10,
   "metadata": {},
   "outputs": [
    {
     "data": {
      "text/plain": [
       "(array([1., 1., 1., ..., 1., 1., 1.]),\n",
       " array([-8.01660325e-15,  5.17007072e-15, -1.32386166e-14, ...,\n",
       "        -3.91115711e-15,  2.67246542e-16,  3.31480874e-15]))"
      ]
     },
     "execution_count": 10,
     "metadata": {},
     "output_type": "execute_result"
    }
   ],
   "source": [
    "raw_X_scaled = preprocessing.scale(raw_X, axis=1)\n",
    "norm_X_scaled = preprocessing.scale(norm_X, axis=1)\n",
    "raw_X_scaled.var(axis=1), raw_X_scaled.mean(axis=1)"
   ]
  },
  {
   "cell_type": "code",
   "execution_count": 11,
   "metadata": {
    "scrolled": true
   },
   "outputs": [
    {
     "name": "stderr",
     "output_type": "stream",
     "text": [
      "No handles with labels found to put in legend.\n",
      "No handles with labels found to put in legend.\n"
     ]
    },
    {
     "data": {
      "image/png": "[encoded data removed]",
      "text/plain": [
       "<Figure size 432x288 with 2 Axes>"
      ]
     },
     "metadata": {},
     "output_type": "display_data"
    }
   ],
   "source": [
    "def preview_scaling(size):\n",
    "    idxs = numpy.random.choice(raw_X.shape[0], size=size, replace=False)\n",
    "    _, (ax1, ax2) = pyplot.subplots(nrows=2, sharex=True)\n",
    "    ax2.set_xlabel('wavelength (Angstrom)')\n",
    "    ax1.set_ylabel('flux')\n",
    "    ax2.set_ylabel('flux')\n",
    "    for idx in idxs:\n",
    "        ax1.plot(WAVES, raw_X[idx])\n",
    "        ax2.plot(WAVES, raw_X_scaled[idx])\n",
    "    ax1.legend(loc='upper right')\n",
    "    ax2.legend(loc='upper right')\n",
    "\n",
    "preview_scaling(10)"
   ]
  },
  {
   "cell_type": "markdown",
   "metadata": {},
   "source": [
    "## Neural Network"
   ]
  },
  {
   "cell_type": "code",
   "execution_count": 12,
   "metadata": {},
   "outputs": [
    {
     "name": "stdout",
     "output_type": "stream",
     "text": [
      "WARNING:tensorflow:From <ipython-input-12-e013171e26d6>:56: softmax_cross_entropy_with_logits (from tensorflow.python.ops.nn_ops) is deprecated and will be removed in a future version.\n",
      "Instructions for updating:\n",
      "\n",
      "Future major versions of TensorFlow will allow gradients to flow\n",
      "into the labels input on backprop by default.\n",
      "\n",
      "See @{tf.nn.softmax_cross_entropy_with_logits_v2}.\n",
      "\n"
     ]
    }
   ],
   "source": [
    "# variables are inialized with small amount of nosise for symmetry breaking\n",
    "# and to prevent 0 gradients\n",
    "# since using ReLU neurons it's good to initialize with positive bias to\n",
    "# avoid 'dead neurons'\n",
    "def weight_variable(shape):\n",
    "    # values whose magnitude is more than 2 standard deviations\n",
    "    # from the mean are dropped and re-picked\n",
    "    initial = tensorflow.truncated_normal(shape, stddev=0.1)\n",
    "    return tensorflow.Variable(initial)\n",
    "\n",
    "def bias_variable(shape):\n",
    "    initial = tensorflow.constant(0.1, shape=shape)\n",
    "    return tensorflow.Variable(initial)\n",
    "\n",
    "def conv2d(x, W):\n",
    "    return tensorflow.nn.conv2d(x, W, strides=[1, 1, 1, 1], padding='VALID')\n",
    "\n",
    "def max_pool_1x2(x):\n",
    "    return tensorflow.nn.max_pool(x, ksize=[1, 1, 2, 1],\n",
    "                                  strides=[1, 1, 2, 1], padding='VALID')\n",
    "\n",
    "# computes 32 features for each 1x3 patch\n",
    "# the first two dimensions are the patch siez\n",
    "# next is the number of input channels\n",
    "N_CHANNELS = 32\n",
    "W_conv1 = weight_variable([1, 3, 1, N_CHANNELS])\n",
    "# bias for each output channel\n",
    "b_conv1 = bias_variable([N_CHANNELS])\n",
    "\n",
    "# TODO consider float64\n",
    "x = tensorflow.placeholder(tensorflow.float32, shape=[None, 140])\n",
    "# 2d tensor of one-hot 3-dimensional vector\n",
    "y_ = tensorflow.placeholder(tensorflow.float32, shape=[None, 3])\n",
    "\n",
    "x_spectra = tensorflow.reshape(x, [-1, 1, 140, 1])\n",
    "\n",
    "h_conv1 = tensorflow.nn.relu(conv2d(x_spectra, W_conv1) + b_conv1)\n",
    "h_pool1 = max_pool_1x2(h_conv1)\n",
    "\n",
    "# dense layer\n",
    "N_DENSE = 512\n",
    "W_fc1 = weight_variable([69 * N_CHANNELS, N_DENSE])\n",
    "b_fc1 = bias_variable([N_DENSE])\n",
    "h_pool1_flat = tensorflow.reshape(h_pool1, [-1, 69 * N_CHANNELS])\n",
    "h_fc1 = tensorflow.nn.relu(tensorflow.matmul(h_pool1_flat, W_fc1) + b_fc1)\n",
    "\n",
    "# dropout\n",
    "keep_prob = tensorflow.placeholder(tensorflow.float32)\n",
    "h_fc1_drop = tensorflow.nn.dropout(h_fc1, keep_prob)\n",
    "\n",
    "# readout layer\n",
    "W_fc2 = weight_variable([N_DENSE, 3])\n",
    "b_fc2 = bias_variable([3])\n",
    "y_conv = tensorflow.matmul(h_fc1_drop, W_fc2) + b_fc2\n",
    "\n",
    "cross_entropy = tensorflow.reduce_mean(tensorflow.nn.softmax_cross_entropy_with_logits(labels=y_, logits=y_conv))\n",
    "train_step = tensorflow.train.AdamOptimizer(1e-4).minimize(cross_entropy)\n",
    "correct_prediction = tensorflow.equal(tensorflow.argmax(y_conv, 1), tensorflow.argmax(y_, 1))\n",
    "accuracy = tensorflow.reduce_mean(tensorflow.cast(correct_prediction, tensorflow.float32))"
   ]
  },
  {
   "cell_type": "markdown",
   "metadata": {},
   "source": [
    "## Traing and Evalutation"
   ]
  },
  {
   "cell_type": "code",
   "execution_count": 13,
   "metadata": {
    "scrolled": true
   },
   "outputs": [
    {
     "name": "stdout",
     "output_type": "stream",
     "text": [
      "epoch 0 training accuracy 0.9047752618789673\n",
      "epoch 1 training accuracy 0.9350187182426453\n",
      "epoch 2 training accuracy 0.9382959008216858\n",
      "epoch 3 training accuracy 0.9463483095169067\n",
      "epoch 4 training accuracy 0.9509363174438477\n",
      "epoch 5 training accuracy 0.95168536901474\n",
      "epoch 6 training accuracy 0.9539325833320618\n",
      "epoch 7 training accuracy 0.9619849920272827\n",
      "epoch 8 training accuracy 0.9639512896537781\n",
      "epoch 9 training accuracy 0.9637640714645386\n",
      "epoch 10 training accuracy 0.9658239483833313\n",
      "epoch 11 training accuracy 0.9672284722328186\n",
      "epoch 12 training accuracy 0.9670411944389343\n",
      "epoch 13 training accuracy 0.9705055952072144\n",
      "epoch 14 training accuracy 0.9676029682159424\n",
      "epoch 15 training accuracy 0.967509388923645\n",
      "epoch 16 training accuracy 0.967509388923645\n",
      "epoch 17 training accuracy 0.9698501825332642\n",
      "epoch 18 training accuracy 0.9695692658424377\n",
      "epoch 19 training accuracy 0.9641385674476624\n",
      "epoch 20 training accuracy 0.9724718928337097\n",
      "epoch 21 training accuracy 0.9725655317306519\n",
      "epoch 22 training accuracy 0.9746254682540894\n",
      "epoch 23 training accuracy 0.9748127460479736\n",
      "epoch 24 training accuracy 0.9749063849449158\n",
      "epoch 25 training accuracy 0.9725655317306519\n",
      "epoch 26 training accuracy 0.9753745198249817\n",
      "epoch 27 training accuracy 0.9742509126663208\n",
      "epoch 28 training accuracy 0.9746254682540894\n",
      "epoch 29 training accuracy 0.9750936627388\n",
      "epoch 30 training accuracy 0.9735018610954285\n",
      "epoch 31 training accuracy 0.9721910357475281\n",
      "epoch 32 training accuracy 0.9735954999923706\n",
      "epoch 33 training accuracy 0.9739700555801392\n",
      "epoch 34 training accuracy 0.9780898690223694\n",
      "epoch 35 training accuracy 0.9759363532066345\n",
      "epoch 36 training accuracy 0.9772471785545349\n",
      "epoch 37 training accuracy 0.9765917658805847\n",
      "epoch 38 training accuracy 0.9787453413009644\n",
      "epoch 39 training accuracy 0.9740636944770813\n",
      "epoch 40 training accuracy 0.9748127460479736\n",
      "epoch 41 training accuracy 0.9763108491897583\n",
      "epoch 42 training accuracy 0.9787453413009644\n",
      "epoch 43 training accuracy 0.9772471785545349\n",
      "epoch 44 training accuracy 0.9763108491897583\n",
      "epoch 45 training accuracy 0.9758427143096924\n",
      "epoch 46 training accuracy 0.9757490754127502\n",
      "epoch 47 training accuracy 0.9764981269836426\n",
      "epoch 48 training accuracy 0.9797753095626831\n",
      "epoch 49 training accuracy 0.9764981269836426\n",
      "epoch 50 training accuracy 0.9804307222366333\n",
      "epoch 51 training accuracy 0.9800561666488647\n",
      "epoch 52 training accuracy 0.9803370833396912\n",
      "epoch 53 training accuracy 0.9793071150779724\n",
      "epoch 54 training accuracy 0.9800561666488647\n",
      "epoch 55 training accuracy 0.9780898690223694\n",
      "epoch 56 training accuracy 0.9804307222366333\n",
      "epoch 57 training accuracy 0.9805243611335754\n",
      "epoch 58 training accuracy 0.9806180000305176\n",
      "epoch 59 training accuracy 0.9810861349105835\n",
      "epoch 60 training accuracy 0.980243444442749\n",
      "epoch 61 training accuracy 0.9812734127044678\n",
      "epoch 62 training accuracy 0.9794943928718567\n",
      "epoch 63 training accuracy 0.9769663214683533\n",
      "epoch 64 training accuracy 0.9794943928718567\n",
      "epoch 65 training accuracy 0.9815543293952942\n",
      "epoch 66 training accuracy 0.9813670516014099\n",
      "epoch 67 training accuracy 0.9789325594902039\n",
      "epoch 68 training accuracy 0.9816479682922363\n",
      "epoch 69 training accuracy 0.980243444442749\n",
      "epoch 70 training accuracy 0.9824906587600708\n",
      "epoch 71 training accuracy 0.9811797738075256\n",
      "epoch 72 training accuracy 0.9793071150779724\n",
      "epoch 73 training accuracy 0.9820224642753601\n",
      "epoch 74 training accuracy 0.9772471785545349\n",
      "epoch 75 training accuracy 0.9823970198631287\n",
      "epoch 76 training accuracy 0.9821161031723022\n",
      "epoch 77 training accuracy 0.9817415475845337\n",
      "epoch 78 training accuracy 0.9826778769493103\n",
      "epoch 79 training accuracy 0.9833333492279053\n",
      "epoch 80 training accuracy 0.9811797738075256\n",
      "epoch 81 training accuracy 0.9835206270217896\n",
      "epoch 82 training accuracy 0.983146071434021\n",
      "epoch 83 training accuracy 0.9832397103309631\n",
      "epoch 84 training accuracy 0.980243444442749\n",
      "epoch 85 training accuracy 0.9816479682922363\n",
      "epoch 86 training accuracy 0.980243444442749\n",
      "epoch 87 training accuracy 0.9815543293952942\n",
      "epoch 88 training accuracy 0.9845505356788635\n",
      "epoch 89 training accuracy 0.983146071434021\n",
      "epoch 90 training accuracy 0.9793071150779724\n",
      "epoch 91 training accuracy 0.9833333492279053\n",
      "epoch 92 training accuracy 0.9838951230049133\n",
      "epoch 93 training accuracy 0.981928825378418\n",
      "epoch 94 training accuracy 0.9840824007987976\n",
      "epoch 95 training accuracy 0.9828651547431946\n",
      "epoch 96 training accuracy 0.984363317489624\n",
      "epoch 97 training accuracy 0.9840824007987976\n",
      "epoch 98 training accuracy 0.9847378134727478\n",
      "epoch 99 training accuracy 0.9816479682922363\n",
      "validation accuracy 0.960106372833252\n"
     ]
    }
   ],
   "source": [
    "def train(X_tr, y_tr, X_val, y_val, epochs, batch_size):\n",
    "    with tensorflow.Session() as sess:\n",
    "        sess.run(tensorflow.global_variables_initializer())\n",
    "\n",
    "        for epoch in range(epochs):\n",
    "            # shuffle the data for each epoch to get random batches\n",
    "            X, y = utils.shuffle(X_tr, y_tr)\n",
    "\n",
    "            for k in range(0, len(X), batch_size):\n",
    "                batch_X = X[k:k + batch_size]\n",
    "                batch_y = y[k:k + batch_size]\n",
    "                train_step.run(feed_dict={x: batch_X, y_: batch_y, keep_prob: 0.5})\n",
    "\n",
    "            train_accuracy = accuracy.eval(feed_dict={x: X, y_: y, keep_prob: 1.0})\n",
    "            print('epoch {} training accuracy {}'.format(epoch, train_accuracy))\n",
    "\n",
    "        validation_accuracy = accuracy.eval(feed_dict={x: X_val, y_: y_val, keep_prob: 1.0})\n",
    "        print('validation accuracy {}'.format(validation_accuracy))\n",
    "\n",
    "train(raw_X_scaled[tr_idx | val_idx], raw_y[tr_idx | val_idx],\n",
    "      raw_X_scaled[te_idx], raw_y[te_idx],\n",
    "      epochs=100, batch_size=128)"
   ]
  },
  {
   "cell_type": "code",
   "execution_count": 14,
   "metadata": {
    "scrolled": true
   },
   "outputs": [
    {
     "name": "stdout",
     "output_type": "stream",
     "text": [
      "epoch 0 training accuracy 0.9180711507797241\n",
      "epoch 1 training accuracy 0.9392322301864624\n",
      "epoch 2 training accuracy 0.9546816349029541\n",
      "epoch 3 training accuracy 0.9544943571090698\n",
      "epoch 4 training accuracy 0.9537453055381775\n",
      "epoch 5 training accuracy 0.9615168571472168\n",
      "epoch 6 training accuracy 0.956367015838623\n",
      "epoch 7 training accuracy 0.9637640714645386\n",
      "epoch 8 training accuracy 0.9667602777481079\n",
      "epoch 9 training accuracy 0.9645131230354309\n",
      "epoch 10 training accuracy 0.9647939801216125\n",
      "epoch 11 training accuracy 0.9710674285888672\n",
      "epoch 12 training accuracy 0.9712547063827515\n",
      "epoch 13 training accuracy 0.9683520793914795\n",
      "epoch 14 training accuracy 0.9716292023658752\n",
      "epoch 15 training accuracy 0.9708801507949829\n",
      "epoch 16 training accuracy 0.9730337262153625\n",
      "epoch 17 training accuracy 0.9727528095245361\n",
      "epoch 18 training accuracy 0.9717228412628174\n",
      "epoch 19 training accuracy 0.9705055952072144\n",
      "epoch 20 training accuracy 0.9747191071510315\n",
      "epoch 21 training accuracy 0.9730337262153625\n",
      "epoch 22 training accuracy 0.9756554365158081\n",
      "epoch 23 training accuracy 0.9758427143096924\n",
      "epoch 24 training accuracy 0.9752808809280396\n",
      "epoch 25 training accuracy 0.9735954999923706\n",
      "epoch 26 training accuracy 0.9751872420310974\n",
      "epoch 27 training accuracy 0.9771535396575928\n",
      "epoch 28 training accuracy 0.977340817451477\n",
      "epoch 29 training accuracy 0.9746254682540894\n",
      "epoch 30 training accuracy 0.9792134761810303\n",
      "epoch 31 training accuracy 0.9735018610954285\n",
      "epoch 32 training accuracy 0.9782771468162537\n",
      "epoch 33 training accuracy 0.9779962301254272\n",
      "epoch 34 training accuracy 0.9770599007606506\n",
      "epoch 35 training accuracy 0.9805243611335754\n",
      "epoch 36 training accuracy 0.9788389801979065\n",
      "epoch 37 training accuracy 0.9792134761810303\n",
      "epoch 38 training accuracy 0.9800561666488647\n",
      "epoch 39 training accuracy 0.9807116389274597\n",
      "epoch 40 training accuracy 0.9805243611335754\n",
      "epoch 41 training accuracy 0.9793071150779724\n",
      "epoch 42 training accuracy 0.9808052182197571\n",
      "epoch 43 training accuracy 0.9774344563484192\n",
      "epoch 44 training accuracy 0.9810861349105835\n",
      "epoch 45 training accuracy 0.9807116389274597\n",
      "epoch 46 training accuracy 0.980243444442749\n",
      "epoch 47 training accuracy 0.9811797738075256\n",
      "epoch 48 training accuracy 0.9812734127044678\n",
      "epoch 49 training accuracy 0.9807116389274597\n",
      "epoch 50 training accuracy 0.981928825378418\n",
      "epoch 51 training accuracy 0.9818351864814758\n",
      "epoch 52 training accuracy 0.9808052182197571\n",
      "epoch 53 training accuracy 0.9808052182197571\n",
      "epoch 54 training accuracy 0.980243444442749\n",
      "epoch 55 training accuracy 0.9821161031723022\n",
      "epoch 56 training accuracy 0.9815543293952942\n",
      "epoch 57 training accuracy 0.9816479682922363\n",
      "epoch 58 training accuracy 0.9820224642753601\n",
      "epoch 59 training accuracy 0.9821161031723022\n",
      "epoch 60 training accuracy 0.9827715158462524\n",
      "epoch 61 training accuracy 0.9823970198631287\n",
      "epoch 62 training accuracy 0.9833333492279053\n",
      "epoch 63 training accuracy 0.9835206270217896\n",
      "epoch 64 training accuracy 0.9835206270217896\n",
      "epoch 65 training accuracy 0.9822097420692444\n",
      "epoch 66 training accuracy 0.981460690498352\n",
      "epoch 67 training accuracy 0.9827715158462524\n",
      "epoch 68 training accuracy 0.9808052182197571\n",
      "epoch 69 training accuracy 0.9808988571166992\n",
      "epoch 70 training accuracy 0.9825842976570129\n",
      "epoch 71 training accuracy 0.9824906587600708\n",
      "epoch 72 training accuracy 0.984363317489624\n",
      "epoch 73 training accuracy 0.9841760396957397\n",
      "epoch 74 training accuracy 0.9824906587600708\n",
      "epoch 75 training accuracy 0.9830524325370789\n",
      "epoch 76 training accuracy 0.9828651547431946\n",
      "epoch 77 training accuracy 0.9830524325370789\n",
      "epoch 78 training accuracy 0.9825842976570129\n",
      "epoch 79 training accuracy 0.983707845211029\n",
      "epoch 80 training accuracy 0.9816479682922363\n",
      "epoch 81 training accuracy 0.9836142063140869\n",
      "epoch 82 training accuracy 0.9845505356788635\n",
      "epoch 83 training accuracy 0.9841760396957397\n",
      "epoch 84 training accuracy 0.9846441745758057\n",
      "epoch 85 training accuracy 0.9844569563865662\n",
      "epoch 86 training accuracy 0.9847378134727478\n",
      "epoch 87 training accuracy 0.9839887619018555\n",
      "epoch 88 training accuracy 0.9844569563865662\n",
      "epoch 89 training accuracy 0.9847378134727478\n",
      "epoch 90 training accuracy 0.9851123690605164\n",
      "epoch 91 training accuracy 0.9863296151161194\n",
      "epoch 92 training accuracy 0.9848314523696899\n",
      "epoch 93 training accuracy 0.9859550595283508\n",
      "epoch 94 training accuracy 0.9835206270217896\n",
      "epoch 95 training accuracy 0.9842696785926819\n",
      "epoch 96 training accuracy 0.9863296151161194\n",
      "epoch 97 training accuracy 0.986048698425293\n",
      "epoch 98 training accuracy 0.986048698425293\n",
      "epoch 99 training accuracy 0.9841760396957397\n",
      "validation accuracy 0.9658687710762024\n"
     ]
    }
   ],
   "source": [
    "train(norm_X_scaled[tr_idx | val_idx], norm_y[tr_idx | val_idx],\n",
    "      norm_X_scaled[te_idx], norm_y[te_idx],\n",
    "      epochs=100, batch_size=128)"
   ]
  }
 ],
 "metadata": {
  "kernelspec": {
   "display_name": "Python 3",
   "language": "python",
   "name": "python3"
  },
  "language_info": {
   "codemirror_mode": {
    "name": "ipython",
    "version": 3
   },
   "file_extension": ".py",
   "mimetype": "text/x-python",
   "name": "python",
   "nbconvert_exporter": "python",
   "pygments_lexer": "ipython3",
   "version": "3.5.2"
  }
 },
 "nbformat": 4,
 "nbformat_minor": 2
}
