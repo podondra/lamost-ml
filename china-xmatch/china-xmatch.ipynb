{
 "cells": [
  {
   "cell_type": "code",
   "execution_count": 1,
   "metadata": {},
   "outputs": [],
   "source": [
    "import pandas\n",
    "from astropy.io import fits"
   ]
  },
  {
   "cell_type": "code",
   "execution_count": 2,
   "metadata": {},
   "outputs": [
    {
     "data": {
      "text/html": [
       "<div>\n",
       "<style scoped>\n",
       "    .dataframe tbody tr th:only-of-type {\n",
       "        vertical-align: middle;\n",
       "    }\n",
       "\n",
       "    .dataframe tbody tr th {\n",
       "        vertical-align: top;\n",
       "    }\n",
       "\n",
       "    .dataframe thead th {\n",
       "        text-align: right;\n",
       "    }\n",
       "</style>\n",
       "<table border=\"1\" class=\"dataframe\">\n",
       "  <thead>\n",
       "    <tr style=\"text-align: right;\">\n",
       "      <th></th>\n",
       "      <th>designation</th>\n",
       "    </tr>\n",
       "    <tr>\n",
       "      <th>id</th>\n",
       "      <th></th>\n",
       "    </tr>\n",
       "  </thead>\n",
       "  <tbody>\n",
       "    <tr>\n",
       "      <th>K01</th>\n",
       "      <td>J063259.37+045622.5</td>\n",
       "    </tr>\n",
       "    <tr>\n",
       "      <th>K02</th>\n",
       "      <td>J035358.25+465351.8</td>\n",
       "    </tr>\n",
       "    <tr>\n",
       "      <th>K03</th>\n",
       "      <td>J032910.40+312159.2</td>\n",
       "    </tr>\n",
       "    <tr>\n",
       "      <th>K04</th>\n",
       "      <td>J063337.49+044847.0</td>\n",
       "    </tr>\n",
       "    <tr>\n",
       "      <th>K05</th>\n",
       "      <td>J052314.90+374253.6</td>\n",
       "    </tr>\n",
       "  </tbody>\n",
       "</table>\n",
       "</div>"
      ],
      "text/plain": [
       "             designation\n",
       "id                      \n",
       "K01  J063259.37+045622.5\n",
       "K02  J035358.25+465351.8\n",
       "K03  J032910.40+312159.2\n",
       "K04  J063337.49+044847.0\n",
       "K05  J052314.90+374253.6"
      ]
     },
     "execution_count": 2,
     "metadata": {},
     "output_type": "execute_result"
    }
   ],
   "source": [
    "china_candidates = pandas.read_csv('data/lamost-dr1-be-stars.csv', index_col='id')\n",
    "china_candidates.head()"
   ]
  },
  {
   "cell_type": "code",
   "execution_count": 3,
   "metadata": {},
   "outputs": [
    {
     "data": {
      "text/html": [
       "<div>\n",
       "<style scoped>\n",
       "    .dataframe tbody tr th:only-of-type {\n",
       "        vertical-align: middle;\n",
       "    }\n",
       "\n",
       "    .dataframe tbody tr th {\n",
       "        vertical-align: top;\n",
       "    }\n",
       "\n",
       "    .dataframe thead th {\n",
       "        text-align: right;\n",
       "    }\n",
       "</style>\n",
       "<table border=\"1\" class=\"dataframe\">\n",
       "  <thead>\n",
       "    <tr style=\"text-align: right;\">\n",
       "      <th></th>\n",
       "      <th>path</th>\n",
       "      <th>label</th>\n",
       "    </tr>\n",
       "  </thead>\n",
       "  <tbody>\n",
       "    <tr>\n",
       "      <th>0</th>\n",
       "      <td>/lamost/EG034015N073506B04/spec-56207-EG034015...</td>\n",
       "      <td>emission</td>\n",
       "    </tr>\n",
       "    <tr>\n",
       "      <th>1</th>\n",
       "      <td>/lamost/EG034015N073506B04/spec-56207-EG034015...</td>\n",
       "      <td>emission</td>\n",
       "    </tr>\n",
       "    <tr>\n",
       "      <th>2</th>\n",
       "      <td>/lamost/EG035637N030328B01/spec-56219-EG035637...</td>\n",
       "      <td>emission</td>\n",
       "    </tr>\n",
       "    <tr>\n",
       "      <th>3</th>\n",
       "      <td>/lamost/EG035637N030328B01/spec-56219-EG035637...</td>\n",
       "      <td>emission</td>\n",
       "    </tr>\n",
       "    <tr>\n",
       "      <th>4</th>\n",
       "      <td>/lamost/EG035637N030328B01/spec-56219-EG035637...</td>\n",
       "      <td>emission</td>\n",
       "    </tr>\n",
       "  </tbody>\n",
       "</table>\n",
       "</div>"
      ],
      "text/plain": [
       "                                                path     label\n",
       "0  /lamost/EG034015N073506B04/spec-56207-EG034015...  emission\n",
       "1  /lamost/EG034015N073506B04/spec-56207-EG034015...  emission\n",
       "2  /lamost/EG035637N030328B01/spec-56219-EG035637...  emission\n",
       "3  /lamost/EG035637N030328B01/spec-56219-EG035637...  emission\n",
       "4  /lamost/EG035637N030328B01/spec-56219-EG035637...  emission"
      ]
     },
     "execution_count": 3,
     "metadata": {},
     "output_type": "execute_result"
    }
   ],
   "source": [
    "our_candidates = pandas.read_csv('data/candidates.csv')\n",
    "our_candidates.head()"
   ]
  },
  {
   "cell_type": "code",
   "execution_count": 4,
   "metadata": {},
   "outputs": [
    {
     "data": {
      "text/plain": [
       "'J033847.35+090103.1'"
      ]
     },
     "execution_count": 4,
     "metadata": {},
     "output_type": "execute_result"
    }
   ],
   "source": [
    "def get_desig(path):\n",
    "    with fits.open(path) as hdulist:\n",
    "        return hdulist[0].header['DESIG'].split()[-1]\n",
    "\n",
    "get_desig(our_candidates.loc[0, 'path'])"
   ]
  },
  {
   "cell_type": "code",
   "execution_count": 5,
   "metadata": {},
   "outputs": [],
   "source": [
    "our_candidates['desig'] = our_candidates['path'].apply(get_desig)"
   ]
  },
  {
   "cell_type": "code",
   "execution_count": 6,
   "metadata": {},
   "outputs": [
    {
     "data": {
      "text/plain": [
       "(12944, 203)"
      ]
     },
     "execution_count": 6,
     "metadata": {},
     "output_type": "execute_result"
    }
   ],
   "source": [
    "len(our_candidates['desig']), len(china_candidates['designation'])"
   ]
  },
  {
   "cell_type": "code",
   "execution_count": 7,
   "metadata": {},
   "outputs": [
    {
     "data": {
      "text/plain": [
       "(12030, 203)"
      ]
     },
     "execution_count": 7,
     "metadata": {},
     "output_type": "execute_result"
    }
   ],
   "source": [
    "our = set(our_candidates['desig'])\n",
    "china = set(china_candidates['designation'])\n",
    "len(our), len(china)"
   ]
  },
  {
   "cell_type": "code",
   "execution_count": 8,
   "metadata": {},
   "outputs": [
    {
     "data": {
      "text/plain": [
       "191"
      ]
     },
     "execution_count": 8,
     "metadata": {},
     "output_type": "execute_result"
    }
   ],
   "source": [
    "xmatch = our & china\n",
    "len(xmatch)"
   ]
  },
  {
   "cell_type": "code",
   "execution_count": 9,
   "metadata": {},
   "outputs": [
    {
     "data": {
      "text/plain": [
       "{'J003720.64+401637.6',\n",
       " 'J004339.36+411008.6',\n",
       " 'J004623.13+413847.4',\n",
       " 'J032910.40+312159.2',\n",
       " 'J050950.65+314022.1',\n",
       " 'J051214.46+411300.8',\n",
       " 'J053549.34+271917.2',\n",
       " 'J054352.84+281120.4',\n",
       " 'J060559.66+280247.7',\n",
       " 'J095810.59+303534.0',\n",
       " 'J134848.73+031151.7',\n",
       " 'J151811.89+313849.2'}"
      ]
     },
     "execution_count": 9,
     "metadata": {},
     "output_type": "execute_result"
    }
   ],
   "source": [
    "china - xmatch"
   ]
  }
 ],
 "metadata": {
  "kernelspec": {
   "display_name": "Python 3",
   "language": "python",
   "name": "python3"
  },
  "language_info": {
   "codemirror_mode": {
    "name": "ipython",
    "version": 3
   },
   "file_extension": ".py",
   "mimetype": "text/x-python",
   "name": "python",
   "nbconvert_exporter": "python",
   "pygments_lexer": "ipython3",
   "version": "3.5.2"
  }
 },
 "nbformat": 4,
 "nbformat_minor": 2
}
